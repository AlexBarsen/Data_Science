{
 "metadata": {
  "kernelspec": {
   "display_name": "Python 3",
   "language": "python",
   "name": "python3"
  },
  "language_info": {
   "codemirror_mode": {
    "name": "ipython",
    "version": 3
   },
   "file_extension": ".py",
   "mimetype": "text/x-python",
   "name": "python",
   "nbconvert_exporter": "python",
   "pygments_lexer": "ipython3",
   "version": "3.6.4"
  },
  "name": "",
  "signature": "sha256:75b85a54ccdf03657e07b6ee1607102c352fd14889f02d0a252645a14bbce0e3"
 },
 "nbformat": 3,
 "nbformat_minor": 0,
 "worksheets": [
  {
   "cells": [
    {
     "cell_type": "code",
     "collapsed": true,
     "input": [
      "# This Python 3 environment comes with many helpful analytics libraries installed\n",
      "# It is defined by the kaggle/python Docker image: https://github.com/kaggle/docker-python\n",
      "# For example, here's several helpful packages to load\n",
      "\n",
      "import numpy as np # linear algebra\n",
      "import pandas as pd # data processing, CSV file I/O (e.g. pd.read_csv)\n",
      "\n",
      "# Input data files are available in the read-only \"../input/\" directory\n",
      "# For example, running this (by clicking run or pressing Shift+Enter) will list all files under the input directory\n",
      "\n",
      "import os\n"
     ],
     "language": "python",
     "metadata": {
      "_cell_guid": "b1076dfc-b9ad-4769-8c92-a6c4dae69d19",
      "_uuid": "8f2839f25d086af736a60e9eeb907d3b93b6e0e5"
     },
     "outputs": [],
     "prompt_number": 2
    },
    {
     "cell_type": "code",
     "collapsed": true,
     "input": [
      "##Input and libraries\n",
      "gdprkaggle=\"./input/gdpr_fines.csv\"\n",
      "allfinesgit=\"./input/all_fines.csv\"\n",
      "import numpy as np # linear algebra\n",
      "import pandas as pd # data processing, CSV file I/O (e.g. pd.read_csv)\n",
      "from sklearn.datasets import make_blobs\n",
      "from sklearn.cluster import KMeans\n",
      "from sklearn.metrics import silhouette_samples, silhouette_score\n",
      "import matplotlib.pyplot as plt\n",
      "import matplotlib.cm as cm\n"
     ],
     "language": "python",
     "metadata": {
      "_cell_guid": "79c7e3d0-c299-4dcb-8224-4455121ee9b0",
      "_uuid": "d629ff2d2480ee46fbb7e2d37f6b5fab8052498a"
     },
     "outputs": [],
     "prompt_number": 3
    },
    {
     "cell_type": "code",
     "collapsed": true,
     "input": [
      "##Read data from csv\n",
      "data1=pd.read_csv(gdprkaggle)\n",
      "data2=pd.read_csv(allfinesgit)"
     ],
     "language": "python",
     "metadata": {},
     "outputs": [],
     "prompt_number": 4
    },
    {
     "cell_type": "code",
     "collapsed": true,
     "input": [
      "### here starts Preprocessing\n",
      "\n",
      "##Display data information to get an overview\n",
      "data1.info()\n",
      "data2.info()"
     ],
     "language": "python",
     "metadata": {},
     "outputs": [
      {
       "output_type": "stream",
       "stream": "stdout",
       "text": [
        "<class 'pandas.core.frame.DataFrame'>\n",
        "Int64Index: 121 entries, 0 to 120\n",
        "Data columns (total 8 columns):\n",
        "Country                 121 non-null object\n",
        "Authority               121 non-null object\n",
        "Date                    121 non-null object\n",
        "Fine [\u20ac]                121 non-null object\n",
        "Controller/Processor    121 non-null object\n",
        "Quoted Art.             121 non-null object\n",
        "Type                    121 non-null object\n",
        "Infos                   121 non-null object\n",
        "dtypes: object(8)\n",
        "memory usage: 4.7+ KB\n",
        "<class 'pandas.core.frame.DataFrame'>\n",
        "Int64Index: 250 entries, 0 to 249\n",
        "Data columns (total 11 columns):\n",
        "id                 250 non-null int64\n",
        "picture            250 non-null object\n",
        "country            250 non-null object\n",
        "price              250 non-null int64\n",
        "authority          250 non-null object\n",
        "date               250 non-null object\n",
        "org_fined          250 non-null object\n",
        "articleViolated    250 non-null object\n",
        "type               250 non-null object\n",
        "source             250 non-null object\n",
        "summary            250 non-null object\n",
        "dtypes: int64(2), object(9)\n",
        "memory usage: 14.6+ KB\n"
       ]
      }
     ],
     "prompt_number": 5
    },
    {
     "cell_type": "code",
     "collapsed": true,
     "input": [
      "##capitalize/upper names of dataset2 \n",
      "##kaggle allready preprocesses data1 a bit so we will focuse more on dataset2\n",
      "data2.columns = map(lambda x: str(x).capitalize(), data2.columns)"
     ],
     "language": "python",
     "metadata": {},
     "outputs": [],
     "prompt_number": 6
    },
    {
     "cell_type": "code",
     "collapsed": true,
     "input": [
      "data2.columns"
     ],
     "language": "python",
     "metadata": {},
     "outputs": [
      {
       "metadata": {},
       "output_type": "pyout",
       "prompt_number": 7,
       "text": [
        "Index([u'Id', u'Picture', u'Country', u'Price', u'Authority', u'Date',\n",
        "       u'Org_fined', u'Articleviolated', u'Type', u'Source', u'Summary'],\n",
        "      dtype='object')"
       ]
      }
     ],
     "prompt_number": 7
    },
    {
     "cell_type": "code",
     "collapsed": true,
     "input": [
      "data1.columns"
     ],
     "language": "python",
     "metadata": {},
     "outputs": [
      {
       "metadata": {},
       "output_type": "pyout",
       "prompt_number": 8,
       "text": [
        "Index([u'Country', u'Authority', u'Date', u'Fine [\u20ac]', u'Controller/Processor',\n",
        "       u'Quoted Art.', u'Type', u'Infos'],\n",
        "      dtype='object')"
       ]
      }
     ],
     "prompt_number": 8
    },
    {
     "cell_type": "code",
     "collapsed": true,
     "input": [
      "##Rename same columns\n",
      "data2.columns = ['Id', 'Picture', 'Country', 'Fine', 'Authority', 'Date', 'Org_fined','ArticleViolated', 'Type', 'Source', 'Summary']\n",
      "data1.columns = ['Country', 'Authority', 'Date', 'Fine', 'Org_fined','ArticleViolated', 'Type', 'Infos']\n",
      "##Check for NA\n",
      "print(data1.isna().sum())\n",
      "print(data2.isna().sum())\n"
     ],
     "language": "python",
     "metadata": {},
     "outputs": [
      {
       "ename": "AttributeError",
       "evalue": "'DataFrame' object has no attribute 'isna'",
       "output_type": "pyerr",
       "traceback": [
        "\u001b[1;31m---------------------------------------------------------------------------\u001b[0m\n\u001b[1;31mAttributeError\u001b[0m                            Traceback (most recent call last)",
        "\u001b[1;32m<ipython-input-9-cd46bc4a399a>\u001b[0m in \u001b[0;36m<module>\u001b[1;34m()\u001b[0m\n\u001b[0;32m      3\u001b[0m \u001b[0mdata1\u001b[0m\u001b[1;33m.\u001b[0m\u001b[0mcolumns\u001b[0m \u001b[1;33m=\u001b[0m \u001b[1;33m[\u001b[0m\u001b[1;34m'Country'\u001b[0m\u001b[1;33m,\u001b[0m \u001b[1;34m'Authority'\u001b[0m\u001b[1;33m,\u001b[0m \u001b[1;34m'Date'\u001b[0m\u001b[1;33m,\u001b[0m \u001b[1;34m'Fine'\u001b[0m\u001b[1;33m,\u001b[0m \u001b[1;34m'Org_fined'\u001b[0m\u001b[1;33m,\u001b[0m\u001b[1;34m'ArticleViolated'\u001b[0m\u001b[1;33m,\u001b[0m \u001b[1;34m'Type'\u001b[0m\u001b[1;33m,\u001b[0m \u001b[1;34m'Infos'\u001b[0m\u001b[1;33m]\u001b[0m\u001b[1;33m\u001b[0m\u001b[0m\n\u001b[0;32m      4\u001b[0m \u001b[1;31m##Check for NA\u001b[0m\u001b[1;33m\u001b[0m\u001b[1;33m\u001b[0m\u001b[0m\n\u001b[1;32m----> 5\u001b[1;33m \u001b[1;32mprint\u001b[0m\u001b[1;33m(\u001b[0m\u001b[0mdata1\u001b[0m\u001b[1;33m.\u001b[0m\u001b[0misna\u001b[0m\u001b[1;33m(\u001b[0m\u001b[1;33m)\u001b[0m\u001b[1;33m.\u001b[0m\u001b[0msum\u001b[0m\u001b[1;33m(\u001b[0m\u001b[1;33m)\u001b[0m\u001b[1;33m)\u001b[0m\u001b[1;33m\u001b[0m\u001b[0m\n\u001b[0m\u001b[0;32m      6\u001b[0m \u001b[1;32mprint\u001b[0m\u001b[1;33m(\u001b[0m\u001b[0mdata2\u001b[0m\u001b[1;33m.\u001b[0m\u001b[0misna\u001b[0m\u001b[1;33m(\u001b[0m\u001b[1;33m)\u001b[0m\u001b[1;33m.\u001b[0m\u001b[0msum\u001b[0m\u001b[1;33m(\u001b[0m\u001b[1;33m)\u001b[0m\u001b[1;33m)\u001b[0m\u001b[1;33m\u001b[0m\u001b[0m\n",
        "\u001b[1;32mC:\\Python27\\lib\\site-packages\\pandas\\core\\generic.pyc\u001b[0m in \u001b[0;36m__getattr__\u001b[1;34m(self, name)\u001b[0m\n\u001b[0;32m   2148\u001b[0m                 \u001b[1;32mreturn\u001b[0m \u001b[0mself\u001b[0m\u001b[1;33m[\u001b[0m\u001b[0mname\u001b[0m\u001b[1;33m]\u001b[0m\u001b[1;33m\u001b[0m\u001b[0m\n\u001b[0;32m   2149\u001b[0m             raise AttributeError(\"'%s' object has no attribute '%s'\" %\n\u001b[1;32m-> 2150\u001b[1;33m                                  (type(self).__name__, name))\n\u001b[0m\u001b[0;32m   2151\u001b[0m \u001b[1;33m\u001b[0m\u001b[0m\n\u001b[0;32m   2152\u001b[0m     \u001b[1;32mdef\u001b[0m \u001b[0m__setattr__\u001b[0m\u001b[1;33m(\u001b[0m\u001b[0mself\u001b[0m\u001b[1;33m,\u001b[0m \u001b[0mname\u001b[0m\u001b[1;33m,\u001b[0m \u001b[0mvalue\u001b[0m\u001b[1;33m)\u001b[0m\u001b[1;33m:\u001b[0m\u001b[1;33m\u001b[0m\u001b[0m\n",
        "\u001b[1;31mAttributeError\u001b[0m: 'DataFrame' object has no attribute 'isna'"
       ]
      }
     ],
     "prompt_number": 9
    },
    {
     "cell_type": "code",
     "collapsed": true,
     "input": [
      "data1.head(2)"
     ],
     "language": "python",
     "metadata": {},
     "outputs": []
    },
    {
     "cell_type": "code",
     "collapsed": true,
     "input": [
      "data2.head(2)"
     ],
     "language": "python",
     "metadata": {},
     "outputs": []
    },
    {
     "cell_type": "code",
     "collapsed": true,
     "input": [
      "## Join both dataframes (inner join for clustering preparation)\n",
      "dataset_clust = pd.concat([data1, data2], axis=0, sort=True, join=\"inner\")\n",
      "dataset_clust.info()\n",
      "print(dataset_clust.isna().sum())"
     ],
     "language": "python",
     "metadata": {},
     "outputs": []
    },
    {
     "cell_type": "code",
     "collapsed": true,
     "input": [
      "## Join both dataframes (outer join for overall view and plotting)\n",
      "dataset = pd.concat([data1, data2], axis=0, sort=True, join=\"outer\")\n",
      "dataset.info()\n",
      "print(dataset.isna().sum())\n"
     ],
     "language": "python",
     "metadata": {},
     "outputs": []
    },
    {
     "cell_type": "code",
     "collapsed": true,
     "input": [
      "dataset.head(2)"
     ],
     "language": "python",
     "metadata": {},
     "outputs": []
    },
    {
     "cell_type": "code",
     "collapsed": true,
     "input": [
      "dataset_clust.head(2)"
     ],
     "language": "python",
     "metadata": {},
     "outputs": []
    },
    {
     "cell_type": "code",
     "collapsed": true,
     "input": [
      "##look for unnecessary columns\n",
      "dataset.columns\n"
     ],
     "language": "python",
     "metadata": {},
     "outputs": []
    },
    {
     "cell_type": "code",
     "collapsed": true,
     "input": [
      "dataset['Country'] = dataset['Country'].str.upper()\n",
      "dataset[\"Fine\"] = dataset[\"Fine\"].astype(str)\n",
      "dataset[\"Fine\"] = dataset[\"Fine\"].str.replace(r'.', '')\n",
      "dataset[\"Fine\"] = dataset[\"Fine\"].str.replace(r',', '')"
     ],
     "language": "python",
     "metadata": {},
     "outputs": []
    },
    {
     "cell_type": "code",
     "collapsed": true,
     "input": [
      "##check if fines are all numbers\n",
      "for i in dataset[\"Fine\"]:\n",
      "    if(i.isdigit()):\n",
      "        continue\n",
      "    else:\n",
      "        print(i)"
     ],
     "language": "python",
     "metadata": {},
     "outputs": []
    },
    {
     "cell_type": "code",
     "collapsed": true,
     "input": [
      "# dataset[\"Fine\"] = dataset[\"Fine\"].str.replace(r'Unknown', '0')"
     ],
     "language": "python",
     "metadata": {},
     "outputs": []
    },
    {
     "cell_type": "code",
     "collapsed": true,
     "input": [
      "##check again if fines are all numbers\n",
      "for i in dataset[\"Fine\"]:\n",
      "    if(i.isdigit()):\n",
      "        continue\n",
      "    else:\n",
      "        print(i)"
     ],
     "language": "python",
     "metadata": {},
     "outputs": []
    },
    {
     "cell_type": "code",
     "collapsed": true,
     "input": [
      "dataset = dataset.reset_index()\n",
      "dataset_clean = dataset.drop(columns=['Id','Infos','Picture', 'Source', 'Summary', 'index'])\n",
      "dataset"
     ],
     "language": "python",
     "metadata": {},
     "outputs": []
    },
    {
     "cell_type": "code",
     "collapsed": true,
     "input": [
      "dataset_clean['Country_code'] = dataset_clean['Country'].map({'AUSTRIA': '01',\n",
      "                                                              'BELGIUM': '02',\n",
      "                                                              'BULGARIA': '03',\n",
      "                                                              'CROATIA': '04',\n",
      "                                                              'CYPRUS': '05',\n",
      "                                                              'CZECH REPUBLIC': '06',\n",
      "                                                              'DENMARK': '07',\n",
      "                                                              'FRANCE': '08',\n",
      "                                                              'GERMANY': '09',\n",
      "                                                              'GREECE': '10',\n",
      "                                                              'HUNGARY': '11',\n",
      "                                                              'ICELAND': '12',\n",
      "                                                              'ITALY': '13',\n",
      "                                                              'LATVIA': '14',\n",
      "                                                              'LITHUANIA': '15',\n",
      "                                                              'MALTA': '16',\n",
      "                                                              'THE NETHERLANDS': '17',\n",
      "                                                              'NORWAY': '18',\n",
      "                                                              'POLAND': '19',\n",
      "                                                              'PORTUGAL': '20',\n",
      "                                                              'ROMANIA': '21',\n",
      "                                                              'SLOVAKIA': '22',\n",
      "                                                              'SPAIN': '23',\n",
      "                                                              'SWEDEN': '24',\n",
      "                                                              'UNITED KINGDOM': '25'})\n",
      "dataset_clean.head(2)"
     ],
     "language": "python",
     "metadata": {},
     "outputs": []
    },
    {
     "cell_type": "code",
     "collapsed": true,
     "input": [
      "dataset_clean"
     ],
     "language": "python",
     "metadata": {},
     "outputs": []
    },
    {
     "cell_type": "code",
     "collapsed": true,
     "input": [
      "#Save data\n",
      "dataset_clean.to_csv('/kaggle/working/df_clean.csv')\n"
     ],
     "language": "python",
     "metadata": {},
     "outputs": []
    },
    {
     "cell_type": "code",
     "collapsed": true,
     "input": [
      "##Read cleaned Data from Openrefine cleaning\n",
      "clean=pd.read_csv(\"../input/cleaner/cleaner-csv-csv.csv\")"
     ],
     "language": "python",
     "metadata": {},
     "outputs": []
    },
    {
     "cell_type": "code",
     "collapsed": true,
     "input": [
      "###Silhouette Plotting for Kmeans\n",
      "# Generating the sample data from make_blobs\n",
      "# This particular setting has one distinct cluster and 3 clusters placed close\n",
      "# together.\n",
      "X, y = make_blobs(n_samples=500,\n",
      "                  n_features=2,\n",
      "                  centers=4,\n",
      "                  cluster_std=1,\n",
      "                  center_box=(-10.0, 10.0),\n",
      "                  shuffle=True,\n",
      "                  random_state=1)  # For reproducibility\n",
      "print(X)\n",
      "range_n_clusters = [2, 3, 4, 5, 6]\n",
      "\n",
      "for n_clusters in range_n_clusters:\n",
      "    # Create a subplot with 1 row and 2 columns\n",
      "    fig, (ax1, ax2) = plt.subplots(1, 2)\n",
      "    fig.set_size_inches(18, 7)\n",
      "\n",
      "    # The 1st subplot is the silhouette plot\n",
      "    # The silhouette coefficient can range from -1, 1 but in this example all\n",
      "    # lie within [-0.1, 1]\n",
      "    ax1.set_xlim([-0.1, 1])\n",
      "    # The (n_clusters+1)*10 is for inserting blank space between silhouette\n",
      "    # plots of individual clusters, to demarcate them clearly.\n",
      "    ax1.set_ylim([0, len(X) + (n_clusters + 1) * 10])\n",
      "\n",
      "    # Initialize the clusterer with n_clusters value and a random generator\n",
      "    # seed of 10 for reproducibility.\n",
      "    clusterer = KMeans(n_clusters=n_clusters, random_state=10)\n",
      "    cluster_labels = clusterer.fit_predict(X)\n",
      "\n",
      "    # The silhouette_score gives the average value for all the samples.\n",
      "    # This gives a perspective into the density and separation of the formed\n",
      "    # clusters\n",
      "    silhouette_avg = silhouette_score(X, cluster_labels)\n",
      "    print(\"For n_clusters =\", n_clusters,\n",
      "          \"The average silhouette_score is :\", silhouette_avg)\n",
      "\n",
      "    # Compute the silhouette scores for each sample\n",
      "    sample_silhouette_values = silhouette_samples(X, cluster_labels)\n",
      "\n",
      "    y_lower = 10\n",
      "    for i in range(n_clusters):\n",
      "        # Aggregate the silhouette scores for samples belonging to\n",
      "        # cluster i, and sort them\n",
      "        ith_cluster_silhouette_values = \\\n",
      "            sample_silhouette_values[cluster_labels == i]\n",
      "\n",
      "        ith_cluster_silhouette_values.sort()\n",
      "\n",
      "        size_cluster_i = ith_cluster_silhouette_values.shape[0]\n",
      "        y_upper = y_lower + size_cluster_i\n",
      "\n",
      "        color = cm.nipy_spectral(float(i) / n_clusters)\n",
      "        ax1.fill_betweenx(np.arange(y_lower, y_upper),\n",
      "                          0, ith_cluster_silhouette_values,\n",
      "                          facecolor=color, edgecolor=color, alpha=0.7)\n",
      "\n",
      "        # Label the silhouette plots with their cluster numbers at the middle\n",
      "        ax1.text(-0.05, y_lower + 0.5 * size_cluster_i, str(i))\n",
      "\n",
      "        # Compute the new y_lower for next plot\n",
      "        y_lower = y_upper + 10  # 10 for the 0 samples\n",
      "\n",
      "    ax1.set_title(\"The silhouette plot for the various clusters.\")\n",
      "    ax1.set_xlabel(\"The silhouette coefficient values\")\n",
      "    ax1.set_ylabel(\"Cluster label\")\n",
      "\n",
      "    # The vertical line for average silhouette score of all the values\n",
      "    ax1.axvline(x=silhouette_avg, color=\"red\", linestyle=\"--\")\n",
      "\n",
      "    ax1.set_yticks([])  # Clear the yaxis labels / ticks\n",
      "    ax1.set_xticks([-0.1, 0, 0.2, 0.4, 0.6, 0.8, 1])\n",
      "\n",
      "    # 2nd Plot showing the actual clusters formed\n",
      "    colors = cm.nipy_spectral(cluster_labels.astype(float) / n_clusters)\n",
      "    ax2.scatter(X[:, 0], X[:, 1], marker='.', s=30, lw=0, alpha=0.7,\n",
      "                c=colors, edgecolor='k')\n",
      "\n",
      "    # Labeling the clusters\n",
      "    centers = clusterer.cluster_centers_\n",
      "    # Draw white circles at cluster centers\n",
      "    ax2.scatter(centers[:, 0], centers[:, 1], marker='o',\n",
      "                c=\"white\", alpha=1, s=200, edgecolor='k')\n",
      "\n",
      "    for i, c in enumerate(centers):\n",
      "        ax2.scatter(c[0], c[1], marker='$%d$' % i, alpha=1,\n",
      "                    s=50, edgecolor='k')\n",
      "\n",
      "    ax2.set_title(\"The visualization of the clustered data.\")\n",
      "    ax2.set_xlabel(\"Feature space for the 1st feature\")\n",
      "    ax2.set_ylabel(\"Feature space for the 2nd feature\")\n",
      "\n",
      "    plt.suptitle((\"Silhouette analysis for KMeans clustering on sample data \"\n",
      "                  \"with n_clusters = %d\" % n_clusters),\n",
      "                 fontsize=14, fontweight='bold')\n",
      "\n",
      "plt.show()"
     ],
     "language": "python",
     "metadata": {},
     "outputs": []
    },
    {
     "cell_type": "code",
     "collapsed": true,
     "input": [
      "clean = clean.drop(columns=['Column'])\n",
      "clean"
     ],
     "language": "python",
     "metadata": {},
     "outputs": []
    },
    {
     "cell_type": "code",
     "collapsed": true,
     "input": [
      "import numpy as np\n",
      "from scipy.stats import pearsonr\n",
      "import matplotlib.pyplot as plt\n",
      "# seed random number generator\n",
      "np.random.seed(42)\n",
      "# prepare data\n",
      "x = np.random.randn(15)\n",
      "y = x + np.random.randn(15)\n",
      "# plot x and y\n",
      "plt.scatter(x, y)\n",
      "plt.plot(np.unique(x), np.poly1d(np.polyfit(x, y, 1))(np.unique(x)))\n",
      "plt.xlabel('x')\n",
      "plt.ylabel('y')\n",
      "plt.show()"
     ],
     "language": "python",
     "metadata": {},
     "outputs": []
    },
    {
     "cell_type": "code",
     "collapsed": true,
     "input": [
      "set.seed(123)\n",
      "mydata <- matrix(rnorm(200), 20, 10)\n",
      "mydata[1:10, seq(1, 10, 2)] = mydata[1:10, seq(1, 10, 2)] + 3\n",
      "mydata[11:20, seq(2, 10, 2)] = mydata[11:20, seq(2, 10, 2)] + 2\n",
      "mydata[15:20, seq(2, 10, 2)] = mydata[15:20, seq(2, 10, 2)] + 4\n",
      "colnames(mydata) = paste(\"Sple\", 1:10, sep = \"\")\n",
      "rownames(mydata) = paste(\"Gene\", 1:20, sep = \"\")\n",
      "head(mydata[, 1:4], 4)"
     ],
     "language": "python",
     "metadata": {},
     "outputs": [
      {
       "ename": "SyntaxError",
       "evalue": "invalid syntax (<ipython-input-1-d8d3965408d2>, line 6)",
       "output_type": "pyerr",
       "traceback": [
        "\u001b[1;36m  File \u001b[1;32m\"<ipython-input-1-d8d3965408d2>\"\u001b[1;36m, line \u001b[1;32m6\u001b[0m\n\u001b[1;33m    colnames(mydata) = paste(\"Sple\", 1:10, sep = \"\")\u001b[0m\n\u001b[1;37m                                      ^\u001b[0m\n\u001b[1;31mSyntaxError\u001b[0m\u001b[1;31m:\u001b[0m invalid syntax\n"
       ]
      }
     ],
     "prompt_number": 1
    },
    {
     "cell_type": "code",
     "collapsed": false,
     "input": [],
     "language": "python",
     "metadata": {},
     "outputs": []
    }
   ],
   "metadata": {}
  }
 ]
}